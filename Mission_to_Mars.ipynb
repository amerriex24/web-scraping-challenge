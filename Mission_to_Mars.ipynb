{
 "cells": [
  {
   "cell_type": "code",
   "execution_count": 1,
   "metadata": {},
   "outputs": [],
   "source": [
    "# set dependencies\n",
    "import os\n",
    "import csv\n",
    "import requests\n",
    "import json\n",
    "import time\n",
    "import gmaps\n",
    "import sqlalchemy\n",
    "import psycopg2\n",
    "import pymongo\n",
    "\n",
    "import numpy as np\n",
    "import pandas as pd\n",
    "import datetime as dt\n",
    "import matplotlib.pyplot as plt\n",
    "import matplotlib.colors as mcolors\n",
    "\n",
    "from datetime import date\n",
    "from flask_pymongo import PyMongo\n",
    "from splinter import Browser\n",
    "from bs4 import BeautifulSoup\n",
    "from flask import Flask, render_template, redirect\n",
    "from datetime import datetime, date, time, timedelta\n",
    "from dateutil.relativedelta import relativedelta\n",
    "from sqlalchemy.ext.automap import automap_base\n",
    "from sqlalchemy.ext.declarative import declarative_base\n",
    "from sqlalchemy import Column, Integer, String, Float, Date\n",
    "from sqlalchemy.ext.automap import automap_base\n",
    "from sqlalchemy.orm import Session\n",
    "from sqlalchemy import create_engine, func, inspect\n",
    "from matplotlib import style\n",
    "from scipy import stats\n",
    "from pprint import pprint\n",
    "from scipy.stats import linregress\n",
    "from citipy import citipy\n",
    "\n",
    "###from api_keys import weather_api_key\n",
    "##from api_keys import g_key\n",
    "\n",
    "pd.options.display.float_format = '{:,.2f}'.format\n"
   ]
  },
  {
   "cell_type": "markdown",
   "metadata": {},
   "source": [
    "### Import Data"
   ]
  },
  {
   "cell_type": "code",
   "execution_count": 3,
   "metadata": {},
   "outputs": [
    {
     "data": {
      "text/html": [
       "<div>\n",
       "<style scoped>\n",
       "    .dataframe tbody tr th:only-of-type {\n",
       "        vertical-align: middle;\n",
       "    }\n",
       "\n",
       "    .dataframe tbody tr th {\n",
       "        vertical-align: top;\n",
       "    }\n",
       "\n",
       "    .dataframe thead th {\n",
       "        text-align: right;\n",
       "    }\n",
       "</style>\n",
       "<table border=\"1\" class=\"dataframe\">\n",
       "  <thead>\n",
       "    <tr style=\"text-align: right;\">\n",
       "      <th></th>\n",
       "      <th>birthMonth</th>\n",
       "      <th>birthDay</th>\n",
       "      <th>birthYear</th>\n",
       "      <th>First year</th>\n",
       "      <th>Countries Active</th>\n",
       "      <th>num_country</th>\n",
       "      <th>Years Active</th>\n",
       "      <th>Start Year</th>\n",
       "      <th>End Year</th>\n",
       "      <th>Proven Victims</th>\n",
       "      <th>Possible Victims</th>\n",
       "    </tr>\n",
       "  </thead>\n",
       "  <tbody>\n",
       "    <tr>\n",
       "      <th>0</th>\n",
       "      <td>4.00</td>\n",
       "      <td>21.00</td>\n",
       "      <td>1,810.00</td>\n",
       "      <td>0.00</td>\n",
       "      <td>United Kingdom</td>\n",
       "      <td>1</td>\n",
       "      <td>1855-1861</td>\n",
       "      <td>1,855.00</td>\n",
       "      <td>1,861.00</td>\n",
       "      <td>3.00</td>\n",
       "      <td>3.00</td>\n",
       "    </tr>\n",
       "    <tr>\n",
       "      <th>1</th>\n",
       "      <td>10.00</td>\n",
       "      <td>17.00</td>\n",
       "      <td>1,821.00</td>\n",
       "      <td>0.00</td>\n",
       "      <td>Spain</td>\n",
       "      <td>1</td>\n",
       "      <td>1870-1879</td>\n",
       "      <td>1,870.00</td>\n",
       "      <td>1,879.00</td>\n",
       "      <td>6.00</td>\n",
       "      <td>6.00</td>\n",
       "    </tr>\n",
       "    <tr>\n",
       "      <th>2</th>\n",
       "      <td>12.00</td>\n",
       "      <td>24.00</td>\n",
       "      <td>1,825.00</td>\n",
       "      <td>0.00</td>\n",
       "      <td>United States</td>\n",
       "      <td>1</td>\n",
       "      <td>1863-1871</td>\n",
       "      <td>1,863.00</td>\n",
       "      <td>1,871.00</td>\n",
       "      <td>12.00</td>\n",
       "      <td>12.00</td>\n",
       "    </tr>\n",
       "    <tr>\n",
       "      <th>3</th>\n",
       "      <td>1.00</td>\n",
       "      <td>28.00</td>\n",
       "      <td>1,828.00</td>\n",
       "      <td>0.00</td>\n",
       "      <td>United States</td>\n",
       "      <td>1</td>\n",
       "      <td>1850-1864</td>\n",
       "      <td>1,850.00</td>\n",
       "      <td>1,864.00</td>\n",
       "      <td>11.00</td>\n",
       "      <td>11.00</td>\n",
       "    </tr>\n",
       "    <tr>\n",
       "      <th>4</th>\n",
       "      <td>9.00</td>\n",
       "      <td>9.00</td>\n",
       "      <td>1,839.00</td>\n",
       "      <td>0.00</td>\n",
       "      <td>Netherlands</td>\n",
       "      <td>1</td>\n",
       "      <td>1880-1883</td>\n",
       "      <td>1,880.00</td>\n",
       "      <td>1,883.00</td>\n",
       "      <td>27.00</td>\n",
       "      <td>90.00</td>\n",
       "    </tr>\n",
       "  </tbody>\n",
       "</table>\n",
       "</div>"
      ],
      "text/plain": [
       "   birthMonth  birthDay  birthYear  First year Countries Active num_country  \\\n",
       "0        4.00     21.00   1,810.00        0.00   United Kingdom           1   \n",
       "1       10.00     17.00   1,821.00        0.00            Spain           1   \n",
       "2       12.00     24.00   1,825.00        0.00    United States           1   \n",
       "3        1.00     28.00   1,828.00        0.00    United States           1   \n",
       "4        9.00      9.00   1,839.00        0.00      Netherlands           1   \n",
       "\n",
       "  Years Active  Start Year  End Year  Proven Victims  Possible Victims  \n",
       "0    1855-1861    1,855.00  1,861.00            3.00              3.00  \n",
       "1    1870-1879    1,870.00  1,879.00            6.00              6.00  \n",
       "2    1863-1871    1,863.00  1,871.00           12.00             12.00  \n",
       "3    1850-1864    1,850.00  1,864.00           11.00             11.00  \n",
       "4    1880-1883    1,880.00  1,883.00           27.00             90.00  "
      ]
     },
     "execution_count": 3,
     "metadata": {},
     "output_type": "execute_result"
    }
   ],
   "source": [
    "# Create dataframe from csv\n",
    "vlcns = \"dataFiles/Volcanos.csv\"\n",
    "vlcns =  pd.read_csv(vlcns)\n",
    "vlcns.head(5)"
   ]
  },
  {
   "cell_type": "markdown",
   "metadata": {},
   "source": [
    "### Test the function"
   ]
  },
  {
   "cell_type": "code",
   "execution_count": 4,
   "metadata": {
    "scrolled": true
   },
   "outputs": [
    {
     "data": {
      "image/png": "[encoded data removed]",
      "text/plain": [
       "<Figure size 864x648 with 1 Axes>"
      ]
     },
     "metadata": {
      "needs_background": "light"
     },
     "output_type": "display_data"
    }
   ],
   "source": [
    "# Drop Rows with NaN from columns to be graphed or linear regression will produce NaN values\n",
    "sbc_plot_scatter(vlcns,'Start Year','End Year')"
   ]
  },
  {
   "cell_type": "code",
   "execution_count": 5,
   "metadata": {
    "scrolled": false
   },
   "outputs": [
    {
     "name": "stdout",
     "output_type": "stream",
     "text": [
      "Getting city 1 of Batch 1 | Denver\n",
      "Getting city 2 of Batch 1 | Moscow\n",
      "Finished getting data......................\n"
     ]
    }
   ],
   "source": [
    "# Create city list from CSV 2 columns: city names and count for heatmap\n",
    "#cities_df =  pd.read_csv('dataFiles/cities_SBC_clean.csv')\n",
    "# Dont Run this cell unless necessary, it takes about 30 min to run\n",
    "#cities_counts=cities_df.value_counts()\n",
    "#cities_counts_df=pd.DataFrame(cities_df.City.value_counts().reset_index())\n",
    "#cities_counts_df.columns=['City','count']\n",
    "#city_list=cities_counts_df['City'].to_list()\n",
    "\n",
    "# Create city list from manual entry.\n",
    "city_list=['Denver', 'Moscow']\n",
    "# Set up URL\n",
    "root_url=f'http://api.openweathermap.org/data/2.5/weather?appid={weather_api_key}&units=imperial&q='\n",
    "\n",
    "# Set up lists and counters\n",
    "name=[]\n",
    "lat=[]\n",
    "lon=[]\n",
    "i=j=1\n",
    "\n",
    "# loop to get lat lons\n",
    "for city in city_list:\n",
    "    response=requests.get(root_url+city).json()\n",
    "    try:\n",
    "        print(f'Getting city {i} of Batch {j} | {city}')\n",
    "        name.append(response['name'])\n",
    "        lat.append(response['coord']['lat'])\n",
    "        lon.append(response['coord']['lon'])\n",
    "        \n",
    "        i+=1\n",
    "        if i>50:\n",
    "            j+=1\n",
    "            i=1\n",
    "            time.sleep(1)\n",
    "    except:\n",
    "        print(f'Unable to retrieve data for {city}')\n",
    "print('Finished getting data......................')"
   ]
  },
  {
   "cell_type": "code",
   "execution_count": 6,
   "metadata": {},
   "outputs": [],
   "source": [
    "map=pd.DataFrame({'City':name,'Lat':lat,'Lon':lon})\n",
    "map['count']=[100,100]"
   ]
  },
  {
   "cell_type": "code",
   "execution_count": 7,
   "metadata": {},
   "outputs": [
    {
     "data": {
      "application/vnd.jupyter.widget-view+json": {
       "model_id": "7b5044249ed34261aba5e9b8a389e5b5",
       "version_major": 2,
       "version_minor": 0
      },
      "text/plain": [
       "Figure(layout=FigureLayout(border='5px solid black', height='500px', margin='0 auto 0 auto', padding='5px', wi…"
      ]
     },
     "metadata": {},
     "output_type": "display_data"
    }
   ],
   "source": [
    "# Generate Location from City\n",
    "# Generate city list, split column into individual cities, count cities per killer, divide # victims by killers per city count\n",
    "#map=pd.read_csv('dataFiles/MUST_HAVE_Lat_Lon_columns.csv',low_memory=False)\n",
    "map=map.dropna(subset=['Lat','Lon'])\n",
    "# Configure gmaps\n",
    "gmaps.configure(api_key=g_key)\n",
    "# Style and create map\n",
    "max_intensity=max(map['count'])\n",
    "style={'width':\"100%\",'height':'500px','border':'5px solid black','padding':'5px','margin':'0 auto 0 auto'}\n",
    "fig=gmaps.figure(layout=style, center=(30,-104),zoom_level=3)\n",
    "heat_layer=gmaps.heatmap_layer(map[['Lat','Lon']],weights=map['count'],max_intensity=max(map['count']),point_radius=1.0,\n",
    "                               dissipating=False)\n",
    "# Add layer\n",
    "fig.add_layer(heat_layer)\n",
    "fig"
   ]
  },
  {
   "cell_type": "code",
   "execution_count": null,
   "metadata": {},
   "outputs": [],
   "source": []
  },
  {
   "cell_type": "code",
   "execution_count": null,
   "metadata": {},
   "outputs": [],
   "source": []
  },
  {
   "cell_type": "code",
   "execution_count": null,
   "metadata": {},
   "outputs": [],
   "source": []
  }
 ],
 "metadata": {
  "kernelspec": {
   "display_name": "Python [conda env:PythonData] *",
   "language": "python",
   "name": "conda-env-PythonData-py"
  },
  "language_info": {
   "codemirror_mode": {
    "name": "ipython",
    "version": 3
   },
   "file_extension": ".py",
   "mimetype": "text/x-python",
   "name": "python",
   "nbconvert_exporter": "python",
   "pygments_lexer": "ipython3",
   "version": "3.6.10"
  }
 },
 "nbformat": 4,
 "nbformat_minor": 4
}
